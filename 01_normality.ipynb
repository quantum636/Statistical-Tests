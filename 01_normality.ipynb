{
 "cells": [
  {
   "cell_type": "code",
   "execution_count": 86,
   "metadata": {},
   "outputs": [],
   "source": [
    "# Import libraries\n",
    "import numpy as np\n",
    "import pandas as pd\n",
    "import seaborn as sns\n",
    "import matplotlib.pyplot as plt"
   ]
  },
  {
   "cell_type": "code",
   "execution_count": 87,
   "metadata": {},
   "outputs": [
    {
     "data": {
      "text/plain": [
       "<matplotlib.collections.PathCollection at 0x27b7f6d2ac0>"
      ]
     },
     "execution_count": 87,
     "metadata": {},
     "output_type": "execute_result"
    },
    {
     "data": {
      "image/png": "[encoded data removed]",
      "text/plain": [
       "<Figure size 360x360 with 1 Axes>"
      ]
     },
     "metadata": {},
     "output_type": "display_data"
    }
   ],
   "source": [
    "# How to draw Normal distribution\n",
    "\n",
    "def pdf(x):\n",
    "    mean = np.mean(x)\n",
    "    std = np.std(x)\n",
    "    y_out = 1/(std * np.sqrt(2 * np.pi)) * np.exp( - (x - mean)**2 / (2 * std**2))\n",
    "    return y_out\n",
    "\n",
    "# To generate an array of x\n",
    "x = np.arange(-2, 2, 0.1)\n",
    "y = pdf(x)\n",
    "\n",
    "#plotting the normal curve / bell curve or gussian distribution\n",
    "\n",
    "plt.style.use('seaborn')\n",
    "plt.figure(figsize=(5,5))\n",
    "\n",
    "plt.plot(x, y, color= 'blue', linestyle = 'dashed')\n",
    "\n",
    "plt.scatter(x, y, marker='o', s=25, color='red')"
   ]
  },
  {
   "cell_type": "markdown",
   "metadata": {},
   "source": [
    "# Normal Distribution and its tests\n",
    "1. import datasets\n",
    "2. subsetting a dataset\n",
    "3. visual test for normal distribution\n",
    "   1. histogram\n",
    "   2. qq-norm plot\n",
    "4. statistical test\n",
    "   1. "
   ]
  },
  {
   "cell_type": "code",
   "execution_count": 88,
   "metadata": {},
   "outputs": [
    {
     "data": {
      "text/html": [
       "<div>\n",
       "<style scoped>\n",
       "    .dataframe tbody tr th:only-of-type {\n",
       "        vertical-align: middle;\n",
       "    }\n",
       "\n",
       "    .dataframe tbody tr th {\n",
       "        vertical-align: top;\n",
       "    }\n",
       "\n",
       "    .dataframe thead th {\n",
       "        text-align: right;\n",
       "    }\n",
       "</style>\n",
       "<table border=\"1\" class=\"dataframe\">\n",
       "  <thead>\n",
       "    <tr style=\"text-align: right;\">\n",
       "      <th></th>\n",
       "      <th>survived</th>\n",
       "      <th>pclass</th>\n",
       "      <th>sex</th>\n",
       "      <th>age</th>\n",
       "      <th>sibsp</th>\n",
       "      <th>parch</th>\n",
       "      <th>fare</th>\n",
       "      <th>embarked</th>\n",
       "      <th>class</th>\n",
       "      <th>who</th>\n",
       "      <th>adult_male</th>\n",
       "      <th>deck</th>\n",
       "      <th>embark_town</th>\n",
       "      <th>alive</th>\n",
       "      <th>alone</th>\n",
       "    </tr>\n",
       "  </thead>\n",
       "  <tbody>\n",
       "    <tr>\n",
       "      <th>0</th>\n",
       "      <td>0</td>\n",
       "      <td>3</td>\n",
       "      <td>male</td>\n",
       "      <td>22.0</td>\n",
       "      <td>1</td>\n",
       "      <td>0</td>\n",
       "      <td>7.2500</td>\n",
       "      <td>S</td>\n",
       "      <td>Third</td>\n",
       "      <td>man</td>\n",
       "      <td>True</td>\n",
       "      <td>NaN</td>\n",
       "      <td>Southampton</td>\n",
       "      <td>no</td>\n",
       "      <td>False</td>\n",
       "    </tr>\n",
       "    <tr>\n",
       "      <th>1</th>\n",
       "      <td>1</td>\n",
       "      <td>1</td>\n",
       "      <td>female</td>\n",
       "      <td>38.0</td>\n",
       "      <td>1</td>\n",
       "      <td>0</td>\n",
       "      <td>71.2833</td>\n",
       "      <td>C</td>\n",
       "      <td>First</td>\n",
       "      <td>woman</td>\n",
       "      <td>False</td>\n",
       "      <td>C</td>\n",
       "      <td>Cherbourg</td>\n",
       "      <td>yes</td>\n",
       "      <td>False</td>\n",
       "    </tr>\n",
       "    <tr>\n",
       "      <th>2</th>\n",
       "      <td>1</td>\n",
       "      <td>3</td>\n",
       "      <td>female</td>\n",
       "      <td>26.0</td>\n",
       "      <td>0</td>\n",
       "      <td>0</td>\n",
       "      <td>7.9250</td>\n",
       "      <td>S</td>\n",
       "      <td>Third</td>\n",
       "      <td>woman</td>\n",
       "      <td>False</td>\n",
       "      <td>NaN</td>\n",
       "      <td>Southampton</td>\n",
       "      <td>yes</td>\n",
       "      <td>True</td>\n",
       "    </tr>\n",
       "    <tr>\n",
       "      <th>3</th>\n",
       "      <td>1</td>\n",
       "      <td>1</td>\n",
       "      <td>female</td>\n",
       "      <td>35.0</td>\n",
       "      <td>1</td>\n",
       "      <td>0</td>\n",
       "      <td>53.1000</td>\n",
       "      <td>S</td>\n",
       "      <td>First</td>\n",
       "      <td>woman</td>\n",
       "      <td>False</td>\n",
       "      <td>C</td>\n",
       "      <td>Southampton</td>\n",
       "      <td>yes</td>\n",
       "      <td>False</td>\n",
       "    </tr>\n",
       "    <tr>\n",
       "      <th>4</th>\n",
       "      <td>0</td>\n",
       "      <td>3</td>\n",
       "      <td>male</td>\n",
       "      <td>35.0</td>\n",
       "      <td>0</td>\n",
       "      <td>0</td>\n",
       "      <td>8.0500</td>\n",
       "      <td>S</td>\n",
       "      <td>Third</td>\n",
       "      <td>man</td>\n",
       "      <td>True</td>\n",
       "      <td>NaN</td>\n",
       "      <td>Southampton</td>\n",
       "      <td>no</td>\n",
       "      <td>True</td>\n",
       "    </tr>\n",
       "  </tbody>\n",
       "</table>\n",
       "</div>"
      ],
      "text/plain": [
       "   survived  pclass     sex   age  sibsp  parch     fare embarked  class  \\\n",
       "0         0       3    male  22.0      1      0   7.2500        S  Third   \n",
       "1         1       1  female  38.0      1      0  71.2833        C  First   \n",
       "2         1       3  female  26.0      0      0   7.9250        S  Third   \n",
       "3         1       1  female  35.0      1      0  53.1000        S  First   \n",
       "4         0       3    male  35.0      0      0   8.0500        S  Third   \n",
       "\n",
       "     who  adult_male deck  embark_town alive  alone  \n",
       "0    man        True  NaN  Southampton    no  False  \n",
       "1  woman       False    C    Cherbourg   yes  False  \n",
       "2  woman       False  NaN  Southampton   yes   True  \n",
       "3  woman       False    C  Southampton   yes  False  \n",
       "4    man        True  NaN  Southampton    no   True  "
      ]
     },
     "execution_count": 88,
     "metadata": {},
     "output_type": "execute_result"
    }
   ],
   "source": [
    "# import a dataset\n",
    "ship = sns.load_dataset('titanic')\n",
    "ship.head()"
   ]
  },
  {
   "cell_type": "code",
   "execution_count": 89,
   "metadata": {},
   "outputs": [
    {
     "data": {
      "text/html": [
       "<div>\n",
       "<style scoped>\n",
       "    .dataframe tbody tr th:only-of-type {\n",
       "        vertical-align: middle;\n",
       "    }\n",
       "\n",
       "    .dataframe tbody tr th {\n",
       "        vertical-align: top;\n",
       "    }\n",
       "\n",
       "    .dataframe thead th {\n",
       "        text-align: right;\n",
       "    }\n",
       "</style>\n",
       "<table border=\"1\" class=\"dataframe\">\n",
       "  <thead>\n",
       "    <tr style=\"text-align: right;\">\n",
       "      <th></th>\n",
       "      <th>sex</th>\n",
       "      <th>age</th>\n",
       "      <th>fare</th>\n",
       "    </tr>\n",
       "  </thead>\n",
       "  <tbody>\n",
       "    <tr>\n",
       "      <th>0</th>\n",
       "      <td>male</td>\n",
       "      <td>22.0</td>\n",
       "      <td>7.2500</td>\n",
       "    </tr>\n",
       "    <tr>\n",
       "      <th>1</th>\n",
       "      <td>female</td>\n",
       "      <td>38.0</td>\n",
       "      <td>71.2833</td>\n",
       "    </tr>\n",
       "    <tr>\n",
       "      <th>2</th>\n",
       "      <td>female</td>\n",
       "      <td>26.0</td>\n",
       "      <td>7.9250</td>\n",
       "    </tr>\n",
       "    <tr>\n",
       "      <th>3</th>\n",
       "      <td>female</td>\n",
       "      <td>35.0</td>\n",
       "      <td>53.1000</td>\n",
       "    </tr>\n",
       "    <tr>\n",
       "      <th>4</th>\n",
       "      <td>male</td>\n",
       "      <td>35.0</td>\n",
       "      <td>8.0500</td>\n",
       "    </tr>\n",
       "  </tbody>\n",
       "</table>\n",
       "</div>"
      ],
      "text/plain": [
       "      sex   age     fare\n",
       "0    male  22.0   7.2500\n",
       "1  female  38.0  71.2833\n",
       "2  female  26.0   7.9250\n",
       "3  female  35.0  53.1000\n",
       "4    male  35.0   8.0500"
      ]
     },
     "execution_count": 89,
     "metadata": {},
     "output_type": "execute_result"
    }
   ],
   "source": [
    "ship = ship[['sex', 'age', 'fare']]\n",
    "ship.head()"
   ]
  },
  {
   "cell_type": "code",
   "execution_count": 90,
   "metadata": {},
   "outputs": [
    {
     "data": {
      "text/plain": [
       "<AxesSubplot:ylabel='Count'>"
      ]
     },
     "execution_count": 90,
     "metadata": {},
     "output_type": "execute_result"
    },
    {
     "data": {
      "image/png": "[encoded data removed]",
      "text/plain": [
       "<Figure size 576x396 with 1 Axes>"
      ]
     },
     "metadata": {},
     "output_type": "display_data"
    }
   ],
   "source": [
    "# Histogram test\n",
    "sns.histplot(ship[['age']])"
   ]
  },
  {
   "cell_type": "code",
   "execution_count": 91,
   "metadata": {},
   "outputs": [
    {
     "name": "stdout",
     "output_type": "stream",
     "text": [
      "Requirement already satisfied: statsmodels in c:\\users\\quantum\\appdata\\local\\programs\\python\\python39\\lib\\site-packages (0.13.2)Note: you may need to restart the kernel to use updated packages.\n",
      "Requirement already satisfied: patsy>=0.5.2 in c:\\users\\quantum\\appdata\\local\\programs\\python\\python39\\lib\\site-packages (from statsmodels) (0.5.2)\n",
      "Requirement already satisfied: pandas>=0.25 in c:\\users\\quantum\\appdata\\local\\programs\\python\\python39\\lib\\site-packages (from statsmodels) (1.4.0)\n",
      "Requirement already satisfied: packaging>=21.3 in c:\\users\\quantum\\appdata\\local\\programs\\python\\python39\\lib\\site-packages (from statsmodels) (21.3)\n",
      "Requirement already satisfied: scipy>=1.3 in c:\\users\\quantum\\appdata\\local\\programs\\python\\python39\\lib\\site-packages (from statsmodels) (1.7.3)\n",
      "Requirement already satisfied: numpy>=1.17 in c:\\users\\quantum\\appdata\\local\\programs\\python\\python39\\lib\\site-packages (from statsmodels) (1.22.1)\n",
      "Requirement already satisfied: six in c:\\users\\quantum\\appdata\\local\\programs\\python\\python39\\lib\\site-packages (from patsy>=0.5.2->statsmodels) (1.16.0)\n",
      "Requirement already satisfied: pytz>=2020.1 in c:\\users\\quantum\\appdata\\local\\programs\\python\\python39\\lib\\site-packages (from pandas>=0.25->statsmodels) (2021.3)\n",
      "Requirement already satisfied: python-dateutil>=2.8.1 in c:\\users\\quantum\\appdata\\local\\programs\\python\\python39\\lib\\site-packages (from pandas>=0.25->statsmodels) (2.8.2)\n",
      "Requirement already satisfied: pyparsing!=3.0.5,>=2.0.2 in c:\\users\\quantum\\appdata\\local\\programs\\python\\python39\\lib\\site-packages (from packaging>=21.3->statsmodels) (3.0.7)\n",
      "\n"
     ]
    },
    {
     "name": "stderr",
     "output_type": "stream",
     "text": [
      "WARNING: You are using pip version 20.2.3; however, version 22.0.4 is available.\n",
      "You should consider upgrading via the 'C:\\Users\\Quantum\\AppData\\Local\\Programs\\Python\\Python39\\python.exe -m pip install --upgrade pip' command.\n"
     ]
    }
   ],
   "source": [
    "pip install statsmodels"
   ]
  },
  {
   "cell_type": "code",
   "execution_count": 92,
   "metadata": {},
   "outputs": [
    {
     "data": {
      "image/png": "[encoded data removed]",
      "text/plain": [
       "<Figure size 576x396 with 1 Axes>"
      ]
     },
     "metadata": {},
     "output_type": "display_data"
    }
   ],
   "source": [
    "# qq plot \n",
    "from statsmodels.graphics.gofplots import qqplot\n",
    "\n",
    "# q-q norm plot\n",
    "qqplot(ship['fare'])\n",
    "plt.show()"
   ]
  },
  {
   "cell_type": "markdown",
   "metadata": {},
   "source": [
    "# 1. Normality Tests\n",
    "There are many statistical tests that we can use to quantify whether a sample of data looks as though it was drawn from a Gaussian distribution.\n",
    "Each test makes differnt assumptions and considers differnt aspects of the data.\n",
    "We will look at 3 commonly used tests in this section that you can apply own data samples.\n",
    "\n",
    "1. Shapiro-wilk Test\n",
    "2. D'Agostino's k^2 Test\n",
    "3. Anderson-Darling Test\n",
    ">** p<= alpha:reject HO, not nomal.**\\\n",
    ">** p>= alpha: fail to rejectHO, normal**"
   ]
  },
  {
   "cell_type": "markdown",
   "metadata": {},
   "source": [
    "# 1. Shapiro-Wilk Test\n",
    "The Shapiro-Wilk test evaluates a data sample and quantifies how likely it is that the data was drawn from a Gaussian Distribution,named for Samuel Shapiro Wilk.\n",
    "In practice, the shapiro-wilk test is believed to be a reliable test of normality, although there is some suggestion that the test may be suitable for smaller samples of data, e.g.thousands of observations or fewer.\n",
    "The Shapiro() scipy function will calculate the shapiro- wilk on a given dataset.The funation returns both the W-statistics calculated by the test and the p-value.\n",
    "\n",
    "### Assumptions\n",
    " . Observations in each sample are independent and identically distributed.\n",
    "### Interpretation\n",
    " . HO: the sample has a Gaussian Distribution.\n",
    " . H1: the sample does not have a Gaussian distribution.\n",
    " "
   ]
  },
  {
   "cell_type": "code",
   "execution_count": 93,
   "metadata": {},
   "outputs": [
    {
     "name": "stdout",
     "output_type": "stream",
     "text": [
      "stat=nan, p=1.000\n",
      "Probably Gaussian or Normal Distribution\n"
     ]
    }
   ],
   "source": [
    "# shapirowilk test\n",
    "\n",
    "#import library\n",
    "from scipy.stats import shapiro\n",
    "\n",
    "stat, p = shapiro(ship['age'])\n",
    "\n",
    "print('stat=%.3f, p=%.3f' % (stat, p))\n",
    "\n",
    "# make a conditional argument for futher use \n",
    "if p > 0.05:\n",
    "    print('Probably Gaussian or Normal Distribution')\n",
    "else:\n",
    "    print('probably not Gussian nor Normal Distributin')    "
   ]
  },
  {
   "cell_type": "markdown",
   "metadata": {},
   "source": [
    "### 2. D'agostino's k^2 Test\n",
    "the D'Agostino's k^2 test calculates summary statistics from the data, namly kutosis and skewness, to determine if the data distribution departs from the normal distribution, named for Ralph D'Agostiono.\n",
    "- **skew** is a quantification of how much a distribution is pushed left or right , a measure of asymmetry in the distribution.\n",
    "- **kurtosis** quantifies how much of the distribution is in the tail.it is a simple and commly used statistical test for normality.\n",
    "  \n",
    "The D'Agostino's k^2 test is avaiable via the normalitytest() Scipy function and returns the test statistics and the p-value.\n",
    "\n",
    "**Assumptions**\n",
    "- Observations in each sample are independent and identically distributed.\n",
    "  \n",
    "**Interpretation**\n",
    " - H0: The sample has a Gaussian Distribution.\n",
    " - H1: The sample does not have a Gussian Distribution.\n",
    " "
   ]
  },
  {
   "cell_type": "code",
   "execution_count": 94,
   "metadata": {},
   "outputs": [
    {
     "name": "stdout",
     "output_type": "stream",
     "text": [
      "stat=nan, p=nan\n",
      "probably not Gussian nor Normal Distributin\n"
     ]
    }
   ],
   "source": [
    "#  D'Agostino's k^2 test\n",
    "\n",
    "#import library\n",
    "from scipy.stats import normaltest\n",
    "\n",
    "stat, p = normaltest(ship['age'])\n",
    "\n",
    "print('stat=%.3f, p=%.3f' % (stat, p))\n",
    "\n",
    "# make a conditional argument for futher use \n",
    "if p > 0.05:\n",
    "    print('Probably Gaussian or Normal Distribution')\n",
    "else:\n",
    "    print('probably not Gussian nor Normal Distributin')  "
   ]
  },
  {
   "cell_type": "markdown",
   "metadata": {},
   "source": [
    "### 3. Anderson-Darling Test\n",
    "A statistical test that can be used to evaluate wether a data sample comes from 1 of among many known data samples, named for Theodore Anderson and Donald Darling.\n",
    "\n",
    "it can be used to check whether a data sample is normal.The test is a modified version of more sophisticted nonparametric goodness-of-fit statistical test czlled the kolmogorov-sMIRNOV TEST\n",
    "\n",
    "A feature of the Anderson-Darling test is that it returns a list of critical values rather then a single p-value.This can provide the basic for more thorough interpretation of result.\n",
    "\n",
    "The anderson's()Scipy Function implements the Anderson-Darling test.it takes as parameters the data samples and the name of the distribution to test it against.By default , the test will check against the Gaussian Distribution(dist='norm') \n",
    "\n",
    "**Assumptions**\n",
    "- Observations in each sample are independent and identically distributed.\n",
    "  \n",
    "**Interpretation**\n",
    " - H0: The sample has a Gaussian Distribution.\n",
    " - H1: The sample does not have a Gussian Distribution."
   ]
  },
  {
   "cell_type": "code",
   "execution_count": 96,
   "metadata": {},
   "outputs": [
    {
     "name": "stdout",
     "output_type": "stream",
     "text": [
      "stat=nan\n",
      "Probably not Gaussian/Normal Distribution at the 15.0% level\n",
      "Probably not Gaussian/Normal Distribution at the 10.0% level\n",
      "Probably not Gaussian/Normal Distribution at the 5.0% level\n",
      "Probably not Gaussian/Normal Distribution at the 2.5% level\n",
      "Probably not Gaussian/Normal Distribution at the 1.0% level\n"
     ]
    }
   ],
   "source": [
    "from scipy.stats import anderson\n",
    "\n",
    "# select a column to check the normal distribution\n",
    "result = anderson(ship[\"age\"])\n",
    "print('stat=%3f' % (result.statistic))\n",
    "for i in range(len(result.critical_values)):\n",
    "    sl, cv = result.significance_level[i], result.critical_values[i]\n",
    "    if result.statistic < cv:\n",
    "        print('Probably Gaussian/Normal Distribution at the %.1f%% level' % (sl))\n",
    "    else:\n",
    "         print('Probably not Gaussian/Normal Distribution at the %.1f%% level' % (sl))   "
   ]
  }
 ],
 "metadata": {
  "interpreter": {
   "hash": "91a7b0e5cf495b89043ed9bbceff8072dcffcb8626e2d8487a0ed58f169b56e9"
  },
  "kernelspec": {
   "display_name": "Python 3.9.4 64-bit",
   "language": "python",
   "name": "python3"
  },
  "language_info": {
   "codemirror_mode": {
    "name": "ipython",
    "version": 3
   },
   "file_extension": ".py",
   "mimetype": "text/x-python",
   "name": "python",
   "nbconvert_exporter": "python",
   "pygments_lexer": "ipython3",
   "version": "3.9.4"
  },
  "orig_nbformat": 4
 },
 "nbformat": 4,
 "nbformat_minor": 2
}
